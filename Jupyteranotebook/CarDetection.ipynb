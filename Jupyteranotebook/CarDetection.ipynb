{
 "cells": [
  {
   "cell_type": "code",
   "execution_count": 7,
   "metadata": {},
   "outputs": [],
   "source": [
    "import cv2\n",
    "import numpy as np "
   ]
  },
  {
   "cell_type": "code",
   "execution_count": 8,
   "metadata": {},
   "outputs": [],
   "source": [
    "# Import the classifiers\n",
    "car_classifier = cv2.CascadeClassifier('haarcascade_car.xml')"
   ]
  },
  {
   "cell_type": "code",
   "execution_count": 14,
   "metadata": {},
   "outputs": [],
   "source": [
    "# Open the camera\n",
    "capture = cv2.VideoCapture(0)\n",
    "\n",
    "while True:\n",
    "#     Read the image\n",
    "    _, image = capture.read()\n",
    "# Convert the color image to gray\n",
    "    gray = cv2.cvtColor(image, cv2.COLOR_BGR2GRAY)\n",
    "#     Detect the car\n",
    "    car = car_classifier.detectMultiScale(gray, 1.2, 3)\n",
    "#     Draw the rectangle over  the detected car\n",
    "    for (x,y,w,h) in car:\n",
    "        cv2.rectangle(image, (x,y), (x+w, y+h), (255,0,0),2)\n",
    "#         Display the car\n",
    "    cv2.imshow('car', image)\n",
    "    k = cv2.waitKey(30) & 0xff\n",
    "    if (k == 27):\n",
    "        break\n",
    "capture.release()\n",
    "cv2.destroyAllWindows()"
   ]
  },
  {
   "cell_type": "code",
   "execution_count": null,
   "metadata": {},
   "outputs": [],
   "source": []
  },
  {
   "cell_type": "code",
   "execution_count": null,
   "metadata": {},
   "outputs": [],
   "source": []
  }
 ],
 "metadata": {
  "kernelspec": {
   "display_name": "Python 3",
   "language": "python",
   "name": "python3"
  },
  "language_info": {
   "codemirror_mode": {
    "name": "ipython",
    "version": 3
   },
   "file_extension": ".py",
   "mimetype": "text/x-python",
   "name": "python",
   "nbconvert_exporter": "python",
   "pygments_lexer": "ipython3",
   "version": "3.7.4"
  }
 },
 "nbformat": 4,
 "nbformat_minor": 4
}
