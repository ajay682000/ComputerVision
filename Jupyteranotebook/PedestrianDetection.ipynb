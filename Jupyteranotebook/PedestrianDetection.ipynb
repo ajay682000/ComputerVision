{
 "cells": [
  {
   "cell_type": "code",
   "execution_count": 1,
   "metadata": {},
   "outputs": [],
   "source": [
    "import cv2\n",
    "import numpy as np "
   ]
  },
  {
   "cell_type": "code",
   "execution_count": 2,
   "metadata": {},
   "outputs": [],
   "source": [
    "# Load the classifier\n",
    "human_classifier = cv2.CascadeClassifier('haarcascade_fullbody.xml')"
   ]
  },
  {
   "cell_type": "code",
   "execution_count": 8,
   "metadata": {},
   "outputs": [],
   "source": [
    "# Open camera\n",
    "# If want to load the video write the video path instead of 0\n",
    "capture = cv2.VideoCapture(0)\n",
    "while True:\n",
    "#     Read image\n",
    "    _, image = capture.read()\n",
    "#     Change the color imagae to gray\n",
    "    gray = cv2.cvtColor(image, cv2.COLOR_BGR2GRAY)\n",
    "#     Detect the human\n",
    "    human = human_classifier.detectMultiScale(gray, 1.2, 3)\n",
    "#     Draw a rectangle  over the detected items\n",
    "    for (x,y,w,h) in human:\n",
    "        cv2.rectangle(image, (x,y), (x+w, y+h), (255,0,0),2)\n",
    "#     Display\n",
    "    cv2.imshow('Humans', image)\n",
    "    k = cv2.waitKey(30) & 0xff\n",
    "    if (k == 27):\n",
    "        break\n",
    "capture.release()\n",
    "cv2.destroyAllWindows()"
   ]
  },
  {
   "cell_type": "code",
   "execution_count": null,
   "metadata": {},
   "outputs": [],
   "source": []
  },
  {
   "cell_type": "code",
   "execution_count": null,
   "metadata": {},
   "outputs": [],
   "source": []
  }
 ],
 "metadata": {
  "kernelspec": {
   "display_name": "Python 3",
   "language": "python",
   "name": "python3"
  },
  "language_info": {
   "codemirror_mode": {
    "name": "ipython",
    "version": 3
   },
   "file_extension": ".py",
   "mimetype": "text/x-python",
   "name": "python",
   "nbconvert_exporter": "python",
   "pygments_lexer": "ipython3",
   "version": "3.7.4"
  }
 },
 "nbformat": 4,
 "nbformat_minor": 4
}
