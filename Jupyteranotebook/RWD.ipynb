{
 "cells": [
  {
   "cell_type": "code",
   "execution_count": 3,
   "metadata": {},
   "outputs": [],
   "source": [
    "import cv2"
   ]
  },
  {
   "cell_type": "code",
   "execution_count": 13,
   "metadata": {},
   "outputs": [],
   "source": [
    "import numpy as np"
   ]
  },
  {
   "cell_type": "code",
   "execution_count": 4,
   "metadata": {},
   "outputs": [],
   "source": [
    "# Read and dispaly the image\n",
    "\n",
    "# Load the image \n",
    "img  = cv2.imread('ak.jpeg')\n",
    "# Display the image\n",
    "cv2.imshow('Myself', img)\n",
    "# waitKey() will display all image till any key to be pressed\n",
    "# Any number given in the bracket will open it for the specified time in milliseconds\n",
    "cv2.waitKey()\n",
    "# destroyAllWindows() will close the wimdows\n",
    "# Fail to put may cause the program to hang\n",
    "cv2.destroyAllWindows()\n",
    "    "
   ]
  },
  {
   "cell_type": "code",
   "execution_count": 5,
   "metadata": {},
   "outputs": [
    {
     "name": "stdout",
     "output_type": "stream",
     "text": [
      "(640, 640, 3)\n"
     ]
    }
   ],
   "source": [
    "'''TO SEE THE HEIGHT AND WIDTH OF THE IMAGE'''\n",
    "print(img.shape)\n",
    "# The output returns the (height, weight, color channels)"
   ]
  },
  {
   "cell_type": "code",
   "execution_count": 9,
   "metadata": {},
   "outputs": [
    {
     "name": "stdout",
     "output_type": "stream",
     "text": [
      "Heigth of the image 640 pixels\n",
      "Width of the image 640 pixels\n",
      "Color Channels of the image 3 channels\n"
     ]
    }
   ],
   "source": [
    "# Printing each dimesnsion of the image\n",
    "print('Heigth of the image is',int(img.shape[0]), 'pixels')\n",
    "print('Width of the image is',int(img.shape[1]), 'pixels')\n",
    "print('Color Channels of the image is',int(img.shape[2]), 'channels')"
   ]
  },
  {
   "cell_type": "code",
   "execution_count": 17,
   "metadata": {},
   "outputs": [
    {
     "data": {
      "text/plain": [
       "True"
      ]
     },
     "execution_count": 17,
     "metadata": {},
     "output_type": "execute_result"
    }
   ],
   "source": [
    "'''SAVING THE OPENED IMAGE'''\n",
    "# Save the image that is opened\n",
    "cv2.imwrite('output.jpeg', img)\n",
    "cv2.imwrite('output.png', img)\n"
   ]
  },
  {
   "cell_type": "code",
   "execution_count": null,
   "metadata": {},
   "outputs": [],
   "source": []
  },
  {
   "cell_type": "code",
   "execution_count": null,
   "metadata": {},
   "outputs": [],
   "source": []
  }
 ],
 "metadata": {
  "kernelspec": {
   "display_name": "Python 3",
   "language": "python",
   "name": "python3"
  },
  "language_info": {
   "codemirror_mode": {
    "name": "ipython",
    "version": 3
   },
   "file_extension": ".py",
   "mimetype": "text/x-python",
   "name": "python",
   "nbconvert_exporter": "python",
   "pygments_lexer": "ipython3",
   "version": "3.7.4"
  }
 },
 "nbformat": 4,
 "nbformat_minor": 4
}
